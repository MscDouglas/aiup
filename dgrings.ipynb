{
 "cells": [
  {
   "cell_type": "markdown",
   "id": "0f38d92b-527d-4a92-b7ed-7adebbaf408a",
   "metadata": {},
   "source": [
    "<h1>My Jupyter Notebook on IBM Watson Studio<h1>"
   ]
  },
  {
   "cell_type": "markdown",
   "id": "9a8e71dd-3ea0-4d66-8888-2d6e64e99cd5",
   "metadata": {
    "tags": []
   },
   "source": [
    "**Douglas Grings**\n",
    "\n",
    " Master in Mechanical Engineering"
   ]
  },
  {
   "cell_type": "markdown",
   "id": "8a15d92e-8b10-48b8-86cf-e2e683244479",
   "metadata": {},
   "source": [
    "**Porque Data Science:**\n",
    "<br><br>\n",
    "    *\"A visão crítica e intenção de investigação sobre o comportamento de fenômenos é primordial para um diferencial. Hoje vemos muito no mercado o ‘Self Service Data Science’, em que confundem o Data Science com programação. Muitas pessoas ficam em dúvida se vão fazer o MBA porque têm medo de programação e, no caso, programação é o menos relevante do ponto de vista do Data Science e Analytics.\"*"
   ]
  },
  {
   "cell_type": "markdown",
   "id": "df66e07c-5840-4a77-a835-fda14640128b",
   "metadata": {},
   "source": [
    "<h3> Rodar cálculo  para plotar gráfico<h3>"
   ]
  },
  {
   "cell_type": "code",
   "execution_count": 11,
   "id": "393895a9-4f6d-4b42-a749-2ace9cd7f37f",
   "metadata": {},
   "outputs": [
    {
     "name": "stdout",
     "output_type": "stream",
     "text": [
      "10*2 + 20 =\n",
      "40\n"
     ]
    }
   ],
   "source": [
    "y=10*2 + 20\n",
    "\n",
    "print(\"10*2 + 20 =\") \n",
    "print(y)\n"
   ]
  },
  {
   "cell_type": "markdown",
   "id": "f68d9402-3b9c-4dc6-aaa9-578ef2ce8b4f",
   "metadata": {},
   "source": [
    "![Markdown Logo is here.](https://www.fullstackpython.com/img/logos/markdown.png)\n",
    "<br><br>\n",
    "\n",
    "### Minha tabela<br>\n",
    "| Stretch/Untouched | ProbDistribution | Accuracy |\n",
    "| :- | -: | :-: |\n",
    "| Stretched | Gaussian | .843,\n",
    "\n",
    "### Topicos \n",
    "1. Tópico inicial\n",
    "2. Tópico de discussão\n",
    "3. Tópico de conclusão\n",
    "\n"
   ]
  },
  {
   "cell_type": "markdown",
   "id": "037d9a9c-4925-43f8-8c50-01ecaeae1544",
   "metadata": {},
   "source": []
  },
  {
   "cell_type": "code",
   "execution_count": null,
   "id": "27cb1c3e-c00e-4661-a4f2-f6d4e6182944",
   "metadata": {},
   "outputs": [],
   "source": []
  }
 ],
 "metadata": {
  "kernelspec": {
   "display_name": "Python",
   "language": "python",
   "name": "conda-env-python-py"
  },
  "language_info": {
   "codemirror_mode": {
    "name": "ipython",
    "version": 3
   },
   "file_extension": ".py",
   "mimetype": "text/x-python",
   "name": "python",
   "nbconvert_exporter": "python",
   "pygments_lexer": "ipython3",
   "version": "3.7.12"
  }
 },
 "nbformat": 4,
 "nbformat_minor": 5
}
